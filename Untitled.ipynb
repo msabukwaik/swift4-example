{
 "cells": [
  {
   "cell_type": "code",
   "execution_count": 41,
   "metadata": {},
   "outputs": [
    {
     "name": "stdout",
     "output_type": "stream",
     "text": [
      "override\n",
      "new\n",
      "smethod1\n"
     ]
    }
   ],
   "source": [
    "class c1:\n",
    "    def __init__(self):\n",
    "        pass\n",
    "    \n",
    "    @classmethod\n",
    "    def cf1(cls):\n",
    "        print \"cf1\"\n",
    "    \n",
    "    @staticmethod\n",
    "    def smethod1():\n",
    "        print \"smethod1\"\n",
    "        \n",
    "class c3:\n",
    "    def __init(self):\n",
    "        pass\n",
    "    \n",
    "    @classmethod\n",
    "    def cf3(cls):\n",
    "        print \"cf1\"\n",
    "\n",
    "        \n",
    "    \n",
    "        \n",
    "class c2(c1, c3):\n",
    "    def __init__(self):\n",
    "        pass\n",
    "    \n",
    "    @staticmethod\n",
    "    def cf2():\n",
    "        print \"cf2\"\n",
    "        \n",
    "    def cf1(cls):\n",
    "        print \"override\"\n",
    "        \n",
    "    @staticmethod\n",
    "    def smethod1():\n",
    "        print \"new\"\n",
    "        \n",
    "cc = c2()\n",
    "cc.cf1()\n",
    "cc.smethod1()\n",
    "c1.smethod1()\n"
   ]
  },
  {
   "cell_type": "code",
   "execution_count": null,
   "metadata": {
    "collapsed": true
   },
   "outputs": [],
   "source": []
  }
 ],
 "metadata": {
  "kernelspec": {
   "display_name": "Python 2",
   "language": "python",
   "name": "python2"
  },
  "language_info": {
   "codemirror_mode": {
    "name": "ipython",
    "version": 2
   },
   "file_extension": ".py",
   "mimetype": "text/x-python",
   "name": "python",
   "nbconvert_exporter": "python",
   "pygments_lexer": "ipython2",
   "version": "2.7.13"
  }
 },
 "nbformat": 4,
 "nbformat_minor": 2
}
